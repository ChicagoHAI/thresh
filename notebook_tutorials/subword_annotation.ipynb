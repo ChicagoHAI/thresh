{
 "cells": [
  {
   "cell_type": "markdown",
   "metadata": {},
   "source": [
    "### Sub-word level Selection\n",
    "Short demo to show how to set up token boundaries for sub-word annotation selection. See [**thresh.tools/?t=demo_tokenization**](https://thresh.tools/?t=demo_tokenization) for more information and an example."
   ]
  },
  {
   "cell_type": "code",
   "execution_count": 1,
   "metadata": {},
   "outputs": [],
   "source": [
    "!pip install -q transformers"
   ]
  },
  {
   "cell_type": "code",
   "execution_count": 2,
   "metadata": {},
   "outputs": [],
   "source": [
    "import transformers\n",
    "tokenizer = transformers.RobertaTokenizer.from_pretrained('roberta-base')"
   ]
  },
  {
   "cell_type": "code",
   "execution_count": 3,
   "metadata": {},
   "outputs": [],
   "source": [
    "# Let's declare some data to be tokenized\n",
    "data = [{\n",
    "    \"source\": \"Whether 'tis nobler in the mind to suffer the slings and arrows of outrageous fortune, or to take arms against a sea of troubles, and, by opposing, end them?\",\n",
    "    \"target\": \"Is it nobler to put up with all the nasty things that luck throws your way, or to fight against all those troubles by simply putting an end to them once and for all?\"\n",
    "}, {\n",
    "    \"source\": \"Alas, poor Yorick! I knew him, Horatio: a fellow of infinite jest, of most excellent fancy: he hath borne me on his back a thousand times; and now, how abhorred in my imagination it is!\",\n",
    "    \"target\": \"Oh, poor Yorick! I used to know him, Horatio—a very funny guy, and with an excellent imagination. He carried me on his back a thousand times, and now—how terrible—this is him.\"\n",
    "}]"
   ]
  },
  {
   "cell_type": "code",
   "execution_count": 4,
   "metadata": {},
   "outputs": [],
   "source": [
    "# Tokenize our data\n",
    "tokenized = []\n",
    "for sent in data:\n",
    "  sent_pair_tokenized = {}\n",
    "  for sent_type in sent:\n",
    "    sent_tokenized = ' '.join(tokenizer.tokenize(sent[sent_type]))\n",
    "    # sent_tokenized = sent_tokenized.replace(' ', '').replace('Ġ', ' ') # Uncomment to recover the original sentence\n",
    "    sent_pair_tokenized[sent_type] = sent_tokenized\n",
    "  tokenized += [sent_pair_tokenized]"
   ]
  },
  {
   "cell_type": "code",
   "execution_count": 5,
   "metadata": {},
   "outputs": [
    {
     "data": {
      "text/plain": [
       "[{'source': \"Whether Ġ' tis Ġnob ler Ġin Ġthe Ġmind Ġto Ġsuffer Ġthe Ġsl ings Ġand Ġarrows Ġof Ġoutrageous Ġfortune , Ġor Ġto Ġtake Ġarms Ġagainst Ġa Ġsea Ġof Ġtroubles , Ġand , Ġby Ġopposing , Ġend Ġthem ?\",\n",
       "  'target': 'Is Ġit Ġnob ler Ġto Ġput Ġup Ġwith Ġall Ġthe Ġnasty Ġthings Ġthat Ġluck Ġthrows Ġyour Ġway , Ġor Ġto Ġfight Ġagainst Ġall Ġthose Ġtroubles Ġby Ġsimply Ġputting Ġan Ġend Ġto Ġthem Ġonce Ġand Ġfor Ġall ?'},\n",
       " {'source': 'Al as , Ġpoor ĠYor ick ! ĠI Ġknew Ġhim , ĠHor atio : Ġa Ġfellow Ġof Ġinfinite Ġj est , Ġof Ġmost Ġexcellent Ġfancy : Ġhe Ġhath Ġborne Ġme Ġon Ġhis Ġback Ġa Ġthousand Ġtimes ; Ġand Ġnow , Ġhow Ġabhor red Ġin Ġmy Ġimagination Ġit Ġis !',\n",
       "  'target': 'Oh , Ġpoor ĠYor ick ! ĠI Ġused Ġto Ġknow Ġhim , ĠHor atio âĢĶ a Ġvery Ġfunny Ġguy , Ġand Ġwith Ġan Ġexcellent Ġimagination . ĠHe Ġcarried Ġme Ġon Ġhis Ġback Ġa Ġthousand Ġtimes , Ġand Ġnow âĢĶ how Ġterrible âĢĶ this Ġis Ġhim .'}]"
      ]
     },
     "execution_count": 5,
     "metadata": {},
     "output_type": "execute_result"
    }
   ],
   "source": [
    "# Now our data will work out-of-the-box with the tokenization: tokenized flag!\n",
    "tokenized"
   ]
  }
 ],
 "metadata": {
  "kernelspec": {
   "display_name": "Python 3",
   "language": "python",
   "name": "python3"
  },
  "language_info": {
   "codemirror_mode": {
    "name": "ipython",
    "version": 3
   },
   "file_extension": ".py",
   "mimetype": "text/x-python",
   "name": "python",
   "nbconvert_exporter": "python",
   "pygments_lexer": "ipython3",
   "version": "3.9.0"
  },
  "orig_nbformat": 4
 },
 "nbformat": 4,
 "nbformat_minor": 2
}
