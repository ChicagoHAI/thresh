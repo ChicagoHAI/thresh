{
 "cells": [
  {
   "cell_type": "markdown",
   "metadata": {},
   "source": [
    "### Prepare Data for Crowdsourcing"
   ]
  },
  {
   "cell_type": "code",
   "execution_count": null,
   "metadata": {},
   "outputs": [],
   "source": [
    "!pip install -q nlproc_tools"
   ]
  },
  {
   "cell_type": "code",
   "execution_count": null,
   "metadata": {},
   "outputs": [],
   "source": [
    "from nlproc_tools import load_interface"
   ]
  },
  {
   "cell_type": "code",
   "execution_count": null,
   "metadata": {},
   "outputs": [],
   "source": [
    "# Let's begin by downloading the demo typology and data\n",
    "!curl -so crowdsource.yml https://nlproc.tools/templates/demo/crowdsource.yml\n",
    "!curl -so crowdsource.json https://nlproc.tools/data/demo/crowdsource.json"
   ]
  },
  {
   "cell_type": "code",
   "execution_count": null,
   "metadata": {},
   "outputs": [],
   "source": [
    "# Studies use a unique completion code. We begin by pasting the code into\n",
    "# the interface template.\n",
    "completion_code = \"YOUR_COMPLETION_CODE\""
   ]
  },
  {
   "cell_type": "code",
   "execution_count": null,
   "metadata": {},
   "outputs": [],
   "source": [
    "# Now we can load and customize our interface template\n",
    "Interface = load_interface(\"crowdsource.yml\")\n",
    "print(Interface.template_label)\n",
    "print(Interface.template_description)\n",
    "\n",
    "Interface.prolific_completion_code = completion_code"
   ]
  },
  {
   "cell_type": "code",
   "execution_count": null,
   "metadata": {},
   "outputs": [],
   "source": [
    "# TOOD: Custom deployment link!"
   ]
  },
  {
   "cell_type": "code",
   "execution_count": null,
   "metadata": {},
   "outputs": [],
   "source": [
    "template_path = \"davidheineman/nlproc.tools/main/public/templates/demo/start.yml\"\n",
    "data_path = \"davidheineman/nlproc.tools/main/public/data/demo/start.json\"\n",
    "\n",
    "study_url = f\"https://nlproc.tools/?gh={template_path}&d={data_path}\"\n",
    "study_url = study_url + \"&PROLIFIC_PID={%PROLIFIC_PID%}&STUDY_ID={%STUDY_ID%}&SESSION_ID={%SESSION_ID%}\"\n",
    "\n",
    "print(f\"Study will be linked to: {study_url}\")"
   ]
  },
  {
   "cell_type": "markdown",
   "metadata": {},
   "source": [
    "### Deploy to Prolific\n",
    "For details on the Prolific API, see [**docs.prolific.co/docs/api-docs/public**](https://docs.prolific.co/docs/api-docs/public)."
   ]
  },
  {
   "cell_type": "code",
   "execution_count": null,
   "metadata": {},
   "outputs": [],
   "source": [
    "# We will use Dallinger, a popular annotation service management tool\n",
    "# Dallinger also has integrations with other services, such as MTurk\n",
    "!pip install -q dallinger"
   ]
  },
  {
   "cell_type": "code",
   "execution_count": null,
   "metadata": {},
   "outputs": [],
   "source": [
    "# See more usage details at https://github.com/Dallinger/Dallinger/blob/master/dallinger/prolific.py\n",
    "from dallinger.prolific import ProlificService"
   ]
  },
  {
   "cell_type": "code",
   "execution_count": null,
   "metadata": {},
   "outputs": [],
   "source": [
    "# To get a developer token, visit your prolific workspace -> settings -> API tokens\n",
    "YOUR_PROLIFIC_API_TOKEN = \"YOUR_API_TOKEN\" \n",
    "\n",
    "# This will read the API token from a local file\n",
    "import os\n",
    "if os.path.exists('.prolific_token'):\n",
    "    YOUR_PROLIFIC_API_TOKEN = open('.prolific_token', \"r\").read()\n",
    "\n",
    "prolific = ProlificService(\n",
    "    api_token=YOUR_PROLIFIC_API_TOKEN,\n",
    "    api_version=\"v1\",\n",
    "    referer_header=None\n",
    ")"
   ]
  },
  {
   "cell_type": "code",
   "execution_count": null,
   "metadata": {},
   "outputs": [],
   "source": [
    "# Prolific annotations are managed by workspaces and grouped by projects. \n",
    "response = prolific._req(\n",
    "    method=\"GET\",\n",
    "    endpoint=f\"/workspaces/\",\n",
    ")\n",
    "workspace_id = response['results'][0]['id']\n",
    "print(f\"Found {response['meta']['count']} workspace(s), using {response['results'][0]['title']} with id {workspace_id}\")"
   ]
  },
  {
   "cell_type": "code",
   "execution_count": null,
   "metadata": {},
   "outputs": [],
   "source": [
    "# Create a new project for our demo annoations.\n",
    "response = prolific._req(\n",
    "    method=\"POST\",\n",
    "    endpoint=f\"/workspaces/{workspace_id}/projects/\",\n",
    "    json={\n",
    "        \"title\": \"My Demo nlproc.tools Project\"\n",
    "    },\n",
    ")\n",
    "project_id = response['id']\n",
    "print(f\"Created new project with id {project_id}\")"
   ]
  },
  {
   "cell_type": "code",
   "execution_count": null,
   "metadata": {},
   "outputs": [],
   "source": [
    "# Create a new draft study for our project.\n",
    "\n",
    "# For more information about survey options, refer to:\n",
    "#   https://docs.prolific.co/docs/api-docs/public/#tag/Studies/paths/~1api~1v1~1studies~1/post\n",
    "response = prolific.draft_study(\n",
    "    # Information about the study\n",
    "    name=\"My Demo Annotation Task\",\n",
    "    internal_name=\"demo-annotation-task\",\n",
    "    description=\"\"\"In this task, you will use nlproc.tools to perform fine-grained evaluation!\"\"\",\n",
    "    # project=project_id,\n",
    "\n",
    "    # Parameters for your data collection\n",
    "    estimated_completion_time=3,\n",
    "    maximum_allowed_time=10,\n",
    "    reward=2,\n",
    "    total_available_places=1,\n",
    "    eligibility_requirements=[],\n",
    "\n",
    "    # Configuration for our nlproc.tools setup\n",
    "    external_study_url=study_url,\n",
    "    completion_code=completion_code,\n",
    "    completion_option=\"url\",\n",
    "    prolific_id_option=\"url_parameters\",\n",
    "    device_compatibility=[\"desktop\"],\n",
    "    peripheral_requirements=[],\n",
    ")\n",
    "study_id = response['id']\n",
    "\n",
    "print(f\"Created draft study with name {response['name']} and ID {study_id}.\")"
   ]
  },
  {
   "cell_type": "markdown",
   "metadata": {},
   "source": [
    "### View your study\n",
    "Your draft study is now public! To view, visit your Prolific dashboard at [**app.prolific.co/researcher/workspaces**](https://app.prolific.co/researcher/workspaces)."
   ]
  },
  {
   "cell_type": "markdown",
   "metadata": {},
   "source": [
    "### Manage Existing Studies"
   ]
  },
  {
   "cell_type": "code",
   "execution_count": null,
   "metadata": {},
   "outputs": [],
   "source": [
    "# We can add more slots to an existing study\n",
    "response = prolific.add_participants_to_study(\n",
    "    study_id=study_id,\n",
    "    number_to_add=5\n",
    ")\n",
    "\n",
    "print(response)"
   ]
  },
  {
   "cell_type": "code",
   "execution_count": null,
   "metadata": {},
   "outputs": [],
   "source": [
    "# Note: when you are ready, this will make the study publically available to participants\n",
    "# prolific.publish_study(study_id)"
   ]
  },
  {
   "cell_type": "code",
   "execution_count": null,
   "metadata": {},
   "outputs": [],
   "source": [
    "prolific.get_hits()"
   ]
  },
  {
   "cell_type": "code",
   "execution_count": null,
   "metadata": {},
   "outputs": [],
   "source": [
    "# Cleanup our resources\n",
    "response = prolific.delete_study(study_id)\n",
    "if response: print(f\"Successfully deleted study: {study_id}!\")\n",
    "\n",
    "response = prolific._req(\n",
    "    method=\"PATCH\",\n",
    "    endpoint=f\"/projects/{project_id}/\",\n",
    "    json={},\n",
    ")\n",
    "if response: print(f\"Successfully deleted project {project_id}!\")"
   ]
  },
  {
   "cell_type": "markdown",
   "metadata": {},
   "source": [
    "### Advanced features\n",
    "Refer to the [**Dallinger library**](https://github.com/Dallinger/Dallinger/blob/master/dallinger/prolific.py) for details about the `ProlificService` class. Here are a few other useful commands:\n",
    "\n",
    "- `pay_session_bonus` - Pay a worker a bonus\n",
    "- `approve_participant_session` / `get_participant_session` - Get / approve an annotation\n",
    "\n",
    "Additionally, you can create your own API calls to Prolific using the format:\n",
    "```python\n",
    "response = prolific._req(\n",
    "    method=\"XXX\",               # The HTTP method, e.g., GET, POST\n",
    "    endpoint=f\"/XXX/YYY/\",      # The API endpoint\n",
    "    json={},                    # The request body in JSON format\n",
    ")\n",
    "```\n",
    "For a full list of API calls and options, please refer to [**docs.prolific.co/docs/api-docs/public**](https://docs.prolific.co/docs/api-docs/public)."
   ]
  }
 ],
 "metadata": {
  "kernelspec": {
   "display_name": "Python 3",
   "language": "python",
   "name": "python3"
  },
  "language_info": {
   "codemirror_mode": {
    "name": "ipython",
    "version": 3
   },
   "file_extension": ".py",
   "mimetype": "text/x-python",
   "name": "python",
   "nbconvert_exporter": "python",
   "pygments_lexer": "ipython3",
   "version": "3.9.0"
  },
  "orig_nbformat": 4
 },
 "nbformat": 4,
 "nbformat_minor": 2
}
